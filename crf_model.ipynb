{
  "nbformat": 4,
  "nbformat_minor": 0,
  "metadata": {
    "colab": {
      "provenance": []
    },
    "kernelspec": {
      "name": "python3",
      "display_name": "Python 3"
    },
    "language_info": {
      "name": "python"
    }
  },
  "cells": [
    {
      "cell_type": "code",
      "source": [
        "!pip install sklearn-crfsuite"
      ],
      "metadata": {
        "id": "FaRXB2rlo9aO",
        "colab": {
          "base_uri": "https://localhost:8080/"
        },
        "outputId": "53861aab-7050-43e6-dc00-1ec43e3df182"
      },
      "execution_count": 4,
      "outputs": [
        {
          "output_type": "stream",
          "name": "stdout",
          "text": [
            "Collecting sklearn-crfsuite\n",
            "  Downloading sklearn_crfsuite-0.5.0-py2.py3-none-any.whl.metadata (4.9 kB)\n",
            "Collecting python-crfsuite>=0.9.7 (from sklearn-crfsuite)\n",
            "  Downloading python_crfsuite-0.9.11-cp311-cp311-manylinux_2_17_x86_64.manylinux2014_x86_64.whl.metadata (4.3 kB)\n",
            "Requirement already satisfied: scikit-learn>=0.24.0 in /usr/local/lib/python3.11/dist-packages (from sklearn-crfsuite) (1.6.1)\n",
            "Requirement already satisfied: tabulate>=0.4.2 in /usr/local/lib/python3.11/dist-packages (from sklearn-crfsuite) (0.9.0)\n",
            "Requirement already satisfied: tqdm>=2.0 in /usr/local/lib/python3.11/dist-packages (from sklearn-crfsuite) (4.67.1)\n",
            "Requirement already satisfied: numpy>=1.19.5 in /usr/local/lib/python3.11/dist-packages (from scikit-learn>=0.24.0->sklearn-crfsuite) (1.26.4)\n",
            "Requirement already satisfied: scipy>=1.6.0 in /usr/local/lib/python3.11/dist-packages (from scikit-learn>=0.24.0->sklearn-crfsuite) (1.13.1)\n",
            "Requirement already satisfied: joblib>=1.2.0 in /usr/local/lib/python3.11/dist-packages (from scikit-learn>=0.24.0->sklearn-crfsuite) (1.4.2)\n",
            "Requirement already satisfied: threadpoolctl>=3.1.0 in /usr/local/lib/python3.11/dist-packages (from scikit-learn>=0.24.0->sklearn-crfsuite) (3.5.0)\n",
            "Downloading sklearn_crfsuite-0.5.0-py2.py3-none-any.whl (10 kB)\n",
            "Downloading python_crfsuite-0.9.11-cp311-cp311-manylinux_2_17_x86_64.manylinux2014_x86_64.whl (1.3 MB)\n",
            "\u001b[2K   \u001b[90m━━━━━━━━━━━━━━━━━━━━━━━━━━━━━━━━━━━━━━━━\u001b[0m \u001b[32m1.3/1.3 MB\u001b[0m \u001b[31m16.5 MB/s\u001b[0m eta \u001b[36m0:00:00\u001b[0m\n",
            "\u001b[?25hInstalling collected packages: python-crfsuite, sklearn-crfsuite\n",
            "Successfully installed python-crfsuite-0.9.11 sklearn-crfsuite-0.5.0\n"
          ]
        }
      ]
    },
    {
      "cell_type": "code",
      "source": [
        "import os\n",
        "import time\n",
        "import string\n",
        "from sklearn_crfsuite import CRF, metrics\n",
        "from sklearn_crfsuite.metrics import flat_classification_report\n",
        "from sklearn.model_selection import train_test_split\n",
        "from sklearn.utils import resample\n",
        "from sklearn_crfsuite.metrics import flat_f1_score\n",
        "from collections import Counter\n",
        "import matplotlib.pyplot as plt\n",
        "import numpy as np\n",
        "import sklearn_crfsuite\n",
        "from sklearn_crfsuite import metrics"
      ],
      "metadata": {
        "id": "v3JjqhcEomzP"
      },
      "execution_count": null,
      "outputs": []
    },
    {
      "cell_type": "code",
      "source": [
        "def load_data(file_path):\n",
        "    sentences, labels = [], []\n",
        "    sentence, label = [], []\n",
        "\n",
        "    with open(file_path, \"r\", encoding=\"utf-8\") as f:\n",
        "        for line in f:\n",
        "            if line.strip() == \"\":  # Dòng trắng: Kết thúc câu\n",
        "                if sentence:\n",
        "                    sentences.append(sentence)\n",
        "                    labels.append(label)\n",
        "                    sentence, label = [], []\n",
        "            else:\n",
        "                parts = line.strip().split()\n",
        "                if len(parts) != 5:  # Kiểm tra định dạng\n",
        "                    continue\n",
        "                word, pos, chunk, ner_label, nested_ner = parts\n",
        "                sentence.append((word, pos, chunk, ner_label, nested_ner))\n",
        "                label.append(ner_label)  # Dùng nhãn NER chính\n",
        "\n",
        "    return sentences, labels\n"
      ],
      "metadata": {
        "id": "6pfForjLpXpL"
      },
      "execution_count": null,
      "outputs": []
    },
    {
      "cell_type": "code",
      "source": [
        "def extract_features(sentence):\n",
        "    \"\"\"Trích xuất đặc trưng từ mỗi từ trong câu.\"\"\"\n",
        "    features = []\n",
        "    for i, (word, pos, chunk, ner, nested_ner) in enumerate(sentence):\n",
        "        feature_dict = {\n",
        "            \"word\": word,\n",
        "            \"lowercase\": word.lower(),\n",
        "            \"is_upper\": word.isupper(),\n",
        "            \"is_title\": word.istitle(),\n",
        "            \"is_digit\": word.isdigit(),\n",
        "            \"suffix-3\": word[-3:],  # 3 ký tự cuối\n",
        "            \"prefix-3\": word[:3],  # 3 ký tự đầu\n",
        "            \"pos\": pos,  # Gắn thêm POS\n",
        "            \"chunk\": chunk,  # Gắn thêm thông tin Chunking\n",
        "            \"nested_entity\": nested_ner,  # Có thể dùng nếu huấn luyện Nested NER\n",
        "            \"prev_word\": sentence[i - 1][0] if i > 0 else \"<START>\",\n",
        "            \"prev_pos\": sentence[i - 1][1] if i > 0 else \"<START>\",\n",
        "            \"prev_chunk\": sentence[i - 1][2] if i > 0 else \"<START>\",\n",
        "            \"next_word\": sentence[i + 1][0] if i < len(sentence) - 1 else \"<END>\",\n",
        "            \"next_pos\": sentence[i + 1][1] if i < len(sentence) - 1 else \"<END>\",\n",
        "            \"next_chunk\": sentence[i + 1][2] if i < len(sentence) - 1 else \"<END>\",\n",
        "        }\n",
        "        features.append(feature_dict)\n",
        "    return features\n"
      ],
      "metadata": {
        "id": "z4s0yDaHdPYq"
      },
      "execution_count": null,
      "outputs": []
    },
    {
      "cell_type": "code",
      "source": [
        "# Load dữ liệu\n",
        "train_sentences, train_labels = load_data(\"/content/train_data.txt\")\n",
        "test_sentences, test_labels = load_data(\"/content/test_data.txt\")\n",
        "\n",
        "# Chuyển câu thành đặc trưng\n",
        "X_train = [extract_features(s) for s in train_sentences]\n",
        "X_test = [extract_features(s) for s in test_sentences]\n"
      ],
      "metadata": {
        "id": "AsWn4hEUdUpp"
      },
      "execution_count": null,
      "outputs": []
    },
    {
      "cell_type": "code",
      "source": [
        "import joblib  # Thư viện để lưu mô hình\n",
        "\n",
        "# Danh sách số lần lặp thử nghiệm\n",
        "max_iterations_list = [5, 10, 15, 20, 30, 35, 40, 45, 50, 55, 60]\n",
        "\n",
        "train_f1_scores = []\n",
        "test_f1_scores = []\n",
        "best_f1 = 0.0  # Lưu giá trị F1 tốt nhất\n",
        "best_model = None  # Lưu mô hình tốt nhất\n",
        "\n",
        "for max_iter in max_iterations_list:\n",
        "    print(f\"Training with max_iterations = {max_iter}...\")\n",
        "\n",
        "    # Khởi tạo mô hình CRF\n",
        "    crf = sklearn_crfsuite.CRF(\n",
        "        algorithm='lbfgs',\n",
        "        c1=0.1, c2=2.0,\n",
        "        max_iterations=max_iter,  # Thử nghiệm với các số lần lặp khác nhau\n",
        "        all_possible_transitions=True\n",
        "    )\n",
        "\n",
        "    # Huấn luyện mô hình\n",
        "    crf.fit(X_train, train_labels)\n",
        "\n",
        "    # Dự đoán trên tập train và test\n",
        "    y_train_pred = crf.predict(X_train)\n",
        "    y_test_pred = crf.predict(X_test)\n",
        "\n",
        "    # Đánh giá F1-score trên tập train và test\n",
        "    train_f1 = metrics.flat_f1_score(train_labels, y_train_pred, average='weighted')\n",
        "    test_f1 = metrics.flat_f1_score(test_labels, y_test_pred, average='weighted')\n",
        "\n",
        "    print(f\"Train F1-score: {train_f1:.4f}, Test F1-score: {test_f1:.4f}\")\n",
        "\n",
        "    # Lưu kết quả để vẽ đồ thị\n",
        "    train_f1_scores.append(train_f1)\n",
        "    test_f1_scores.append(test_f1)\n",
        "\n",
        "    # Kiểm tra xem đây có phải là mô hình tốt nhất không\n",
        "    if test_f1 > best_f1:\n",
        "        best_f1 = test_f1\n",
        "        best_model = crf  # Lưu lại mô hình có test F1-score cao nhất\n",
        "        joblib.dump(crf, \"best_crf_model.pkl\")  # Lưu checkpoint\n",
        "        print(f\"✅ Lưu checkpoint - Mô hình tốt nhất với test F1-score = {best_f1:.4f}\")\n",
        "\n",
        "# Hiển thị kết quả cuối cùng\n",
        "print(f\"\\n🎯 Mô hình tốt nhất có test F1-score = {best_f1:.4f}, đã được lưu vào 'best_crf_model.pkl'\")"
      ],
      "metadata": {
        "colab": {
          "base_uri": "https://localhost:8080/"
        },
        "id": "NhMYsXOOhkLi",
        "outputId": "2e2c7f5e-d06b-4e81-c61e-67a44c13ae72"
      },
      "execution_count": null,
      "outputs": [
        {
          "output_type": "stream",
          "name": "stdout",
          "text": [
            "Training with max_iterations = 5...\n",
            "Train F1-score: 0.8116, Test F1-score: 0.7760\n",
            "✅ Lưu checkpoint - Mô hình tốt nhất với test F1-score = 0.7760\n",
            "Training with max_iterations = 10...\n",
            "Train F1-score: 0.8951, Test F1-score: 0.8601\n",
            "✅ Lưu checkpoint - Mô hình tốt nhất với test F1-score = 0.8601\n",
            "Training with max_iterations = 15...\n",
            "Train F1-score: 0.9413, Test F1-score: 0.9169\n",
            "✅ Lưu checkpoint - Mô hình tốt nhất với test F1-score = 0.9169\n",
            "Training with max_iterations = 20...\n",
            "Train F1-score: 0.9667, Test F1-score: 0.9547\n",
            "✅ Lưu checkpoint - Mô hình tốt nhất với test F1-score = 0.9547\n",
            "Training with max_iterations = 30...\n",
            "Train F1-score: 0.9909, Test F1-score: 0.9874\n",
            "✅ Lưu checkpoint - Mô hình tốt nhất với test F1-score = 0.9874\n",
            "Training with max_iterations = 35...\n",
            "Train F1-score: 0.9950, Test F1-score: 0.9925\n",
            "✅ Lưu checkpoint - Mô hình tốt nhất với test F1-score = 0.9925\n",
            "Training with max_iterations = 40...\n",
            "Train F1-score: 0.9968, Test F1-score: 0.9947\n",
            "✅ Lưu checkpoint - Mô hình tốt nhất với test F1-score = 0.9947\n",
            "Training with max_iterations = 45...\n",
            "Train F1-score: 0.9974, Test F1-score: 0.9950\n",
            "✅ Lưu checkpoint - Mô hình tốt nhất với test F1-score = 0.9950\n",
            "Training with max_iterations = 50...\n",
            "Train F1-score: 0.9978, Test F1-score: 0.9957\n",
            "✅ Lưu checkpoint - Mô hình tốt nhất với test F1-score = 0.9957\n",
            "Training with max_iterations = 55...\n",
            "Train F1-score: 0.9980, Test F1-score: 0.9959\n",
            "✅ Lưu checkpoint - Mô hình tốt nhất với test F1-score = 0.9959\n",
            "Training with max_iterations = 60...\n",
            "Train F1-score: 0.9982, Test F1-score: 0.9960\n",
            "✅ Lưu checkpoint - Mô hình tốt nhất với test F1-score = 0.9960\n",
            "\n",
            "🎯 Mô hình tốt nhất có test F1-score = 0.9960, đã được lưu vào 'best_crf_model.pkl'\n"
          ]
        }
      ]
    },
    {
      "cell_type": "code",
      "source": [
        "# Load mô hình tốt nhất từ file checkpoint\n",
        "best_model = joblib.load(\"best_crf_model.pkl\")\n",
        "\n",
        "# Dự đoán trên dữ liệu mới\n",
        "y_pred = best_model.predict(X_test)\n",
        "\n",
        "# Đánh giá lại mô hình\n",
        "print(metrics.flat_classification_report(test_labels, y_pred))\n"
      ],
      "metadata": {
        "colab": {
          "base_uri": "https://localhost:8080/"
        },
        "id": "jCKVFBdKh3Bq",
        "outputId": "581d6d62-b40d-4f08-bf99-20bcf261a067"
      },
      "execution_count": null,
      "outputs": [
        {
          "output_type": "stream",
          "name": "stdout",
          "text": [
            "              precision    recall  f1-score   support\n",
            "\n",
            "        B-CQ       1.00      0.99      1.00      7105\n",
            "        B-NG       1.00      1.00      1.00      4087\n",
            "        B-SL       1.00      0.98      0.99       750\n",
            "      B-VBPL       0.96      0.95      0.95       857\n",
            "        B-ĐT       0.99      0.98      0.99      7109\n",
            "        I-CQ       0.99      0.99      0.99      2402\n",
            "        I-NG       1.00      1.00      1.00      4087\n",
            "        I-SL       0.99      0.98      0.98       767\n",
            "      I-VBPL       0.96      0.98      0.97      2997\n",
            "        I-ĐT       0.98      0.95      0.97      6031\n",
            "           O       1.00      1.00      1.00    199407\n",
            "\n",
            "    accuracy                           1.00    235599\n",
            "   macro avg       0.99      0.98      0.98    235599\n",
            "weighted avg       1.00      1.00      1.00    235599\n",
            "\n"
          ]
        }
      ]
    },
    {
      "cell_type": "code",
      "source": [
        "!pip install seaborn matplotlib\n"
      ],
      "metadata": {
        "colab": {
          "base_uri": "https://localhost:8080/"
        },
        "id": "cTYl6V5olE3y",
        "outputId": "102b3360-3bec-4363-9fd7-3f1acb800294"
      },
      "execution_count": null,
      "outputs": [
        {
          "output_type": "stream",
          "name": "stdout",
          "text": [
            "Requirement already satisfied: seaborn in /usr/local/lib/python3.11/dist-packages (0.13.2)\n",
            "Requirement already satisfied: matplotlib in /usr/local/lib/python3.11/dist-packages (3.10.0)\n",
            "Requirement already satisfied: numpy!=1.24.0,>=1.20 in /usr/local/lib/python3.11/dist-packages (from seaborn) (1.26.4)\n",
            "Requirement already satisfied: pandas>=1.2 in /usr/local/lib/python3.11/dist-packages (from seaborn) (2.2.2)\n",
            "Requirement already satisfied: contourpy>=1.0.1 in /usr/local/lib/python3.11/dist-packages (from matplotlib) (1.3.1)\n",
            "Requirement already satisfied: cycler>=0.10 in /usr/local/lib/python3.11/dist-packages (from matplotlib) (0.12.1)\n",
            "Requirement already satisfied: fonttools>=4.22.0 in /usr/local/lib/python3.11/dist-packages (from matplotlib) (4.55.8)\n",
            "Requirement already satisfied: kiwisolver>=1.3.1 in /usr/local/lib/python3.11/dist-packages (from matplotlib) (1.4.8)\n",
            "Requirement already satisfied: packaging>=20.0 in /usr/local/lib/python3.11/dist-packages (from matplotlib) (24.2)\n",
            "Requirement already satisfied: pillow>=8 in /usr/local/lib/python3.11/dist-packages (from matplotlib) (11.1.0)\n",
            "Requirement already satisfied: pyparsing>=2.3.1 in /usr/local/lib/python3.11/dist-packages (from matplotlib) (3.2.1)\n",
            "Requirement already satisfied: python-dateutil>=2.7 in /usr/local/lib/python3.11/dist-packages (from matplotlib) (2.8.2)\n",
            "Requirement already satisfied: pytz>=2020.1 in /usr/local/lib/python3.11/dist-packages (from pandas>=1.2->seaborn) (2025.1)\n",
            "Requirement already satisfied: tzdata>=2022.7 in /usr/local/lib/python3.11/dist-packages (from pandas>=1.2->seaborn) (2025.1)\n",
            "Requirement already satisfied: six>=1.5 in /usr/local/lib/python3.11/dist-packages (from python-dateutil>=2.7->matplotlib) (1.17.0)\n"
          ]
        }
      ]
    },
    {
      "cell_type": "code",
      "source": [
        "# Vẽ biểu đồ F1-score của tập train và test theo số lần lặp (max_iterations)\n",
        "plt.figure(figsize=(8, 5))\n",
        "plt.plot(max_iterations_list, train_f1_scores, marker='o', linestyle='-', label=\"Train F1-score\")\n",
        "plt.plot(max_iterations_list, test_f1_scores, marker='s', linestyle='--', label=\"Test F1-score\")\n",
        "\n",
        "# Định dạng biểu đồ\n",
        "plt.xlabel(\"Max Iterations\")\n",
        "plt.ylabel(\"F1-score\")\n",
        "plt.title(\"F1-score vs Max Iterations (Train vs Test)\")\n",
        "plt.legend()\n",
        "plt.grid(True)\n",
        "plt.show()\n"
      ],
      "metadata": {
        "colab": {
          "base_uri": "https://localhost:8080/",
          "height": 487
        },
        "id": "4J374--TlG2m",
        "outputId": "ea933011-bb87-44fc-bf13-6faeb53c367c"
      },
      "execution_count": null,
      "outputs": [
        {
          "output_type": "display_data",
          "data": {
            "text/plain": [
              "<Figure size 800x500 with 1 Axes>"
            ],
            "image/png": "[encoded data removed]"
          },
          "metadata": {}
        }
      ]
    },
    {
      "cell_type": "code",
      "source": [
        "from sklearn_crfsuite import metrics\n",
        "print(metrics.flat_classification_report(test_labels, y_test_pred))"
      ],
      "metadata": {
        "colab": {
          "base_uri": "https://localhost:8080/"
        },
        "id": "SajbzexxrwBf",
        "outputId": "5ccb1a96-3590-4e48-dc4d-0fdc60059c43"
      },
      "execution_count": null,
      "outputs": [
        {
          "output_type": "stream",
          "name": "stdout",
          "text": [
            "              precision    recall  f1-score   support\n",
            "\n",
            "        B-CQ       0.99      0.97      0.98      7105\n",
            "        B-NG       1.00      0.99      1.00      4087\n",
            "        B-SL       0.99      0.97      0.98       750\n",
            "      B-VBPL       0.95      0.93      0.94       857\n",
            "        B-ĐT       0.98      0.92      0.94      7109\n",
            "        I-CQ       0.92      0.94      0.93      2402\n",
            "        I-NG       1.00      0.99      1.00      4087\n",
            "        I-SL       0.99      0.97      0.98       767\n",
            "      I-VBPL       0.95      0.97      0.96      2997\n",
            "        I-ĐT       0.92      0.83      0.88      6031\n",
            "           O       0.99      1.00      0.99    199407\n",
            "\n",
            "    accuracy                           0.99    235599\n",
            "   macro avg       0.97      0.95      0.96    235599\n",
            "weighted avg       0.99      0.99      0.99    235599\n",
            "\n"
          ]
        }
      ]
    },
    {
      "cell_type": "code",
      "source": [
        "from collections import Counter\n",
        "\n",
        "label_counts = Counter(label for sentence in train_labels for label in sentence)\n",
        "print(\"Phân phối nhãn trong tập huấn luyện:\", label_counts)\n"
      ],
      "metadata": {
        "colab": {
          "base_uri": "https://localhost:8080/"
        },
        "id": "wQGE0G_glkd2",
        "outputId": "14a018d1-e184-412a-fc74-cb89333b8ecb"
      },
      "execution_count": null,
      "outputs": [
        {
          "output_type": "stream",
          "name": "stdout",
          "text": [
            "Phân phối nhãn trong tập huấn luyện: Counter({'O': 2260705, 'I-VBPL': 56802, 'B-CQ': 52509, 'B-ĐT': 51555, 'I-ĐT': 36852, 'I-NG': 27975, 'B-NG': 27954, 'I-SL': 23454, 'B-SL': 22500, 'B-VBPL': 17682, 'I-CQ': 16128})\n"
          ]
        }
      ]
    },
    {
      "cell_type": "code",
      "source": [
        "!pip install joblib"
      ],
      "metadata": {
        "colab": {
          "base_uri": "https://localhost:8080/"
        },
        "id": "RLtODMe0jzJ7",
        "outputId": "4d516624-feac-406c-b632-ebf28f706518"
      },
      "execution_count": 2,
      "outputs": [
        {
          "output_type": "stream",
          "name": "stdout",
          "text": [
            "Requirement already satisfied: joblib in /usr/local/lib/python3.11/dist-packages (1.4.2)\n"
          ]
        }
      ]
    },
    {
      "cell_type": "code",
      "source": [
        "import joblib\n",
        "\n",
        "# Lưu mô hình vào file\n",
        "joblib.dump(crf, \"crf_model.pkl\")\n",
        "\n",
        "print(\"Mô hình đã được lưu thành công!\")\n"
      ],
      "metadata": {
        "id": "jSmURIDClSgD"
      },
      "execution_count": null,
      "outputs": []
    },
    {
      "cell_type": "code",
      "source": [
        "import joblib\n",
        "# Tải mô hình đã lưu\n",
        "loaded_crf = joblib.load(\"/content/crf_model.pkl\")\n",
        "\n",
        "# Kiểm tra dự đoán với mô hình đã tải\n",
        "y_pred = loaded_crf.predict(X_test)\n",
        "\n",
        "# In báo cáo đánh giá\n",
        "from sklearn_crfsuite import metrics\n",
        "print(metrics.flat_classification_report(test_labels, y_pred))\n"
      ],
      "metadata": {
        "id": "67QCTBysziq0"
      },
      "execution_count": null,
      "outputs": []
    },
    {
      "cell_type": "markdown",
      "source": [
        "## model cũ"
      ],
      "metadata": {
        "id": "tgWwYum4tCZl"
      }
    },
    {
      "cell_type": "code",
      "source": [
        "import pickle\n",
        "# Load mô hình CRF đã huấn luyện\n",
        "with open(\"/content/crf_model.pkl\", \"rb\") as f:\n",
        "    crf = pickle.load(f)\n"
      ],
      "metadata": {
        "id": "u0tXxXn7jxwP"
      },
      "execution_count": 6,
      "outputs": []
    },
    {
      "cell_type": "code",
      "source": [
        "new_sentence = [\"Trực_tuyến\", \"5\", \"Ngày\", \"Công_bố\", \"thông_tin\", \"trên\", \"trang\", \"thông_tin\", \"điện_tử\", \"Luật\", \"64/2006/QH11\", \"-\", \"Phòng\", \",\", \"chống\", \"nhiễm\", \"vi_rút\", \"gây\", \"ra\", \"hội_chứng\", \"suy_giảm\", \"miễn_dịch\", \"mắc\", \"phải\", \"ở\", \"người\", \"HIV/AIDS\", \"nghị_định\", \"90/2016/NĐ-CP\", \"-\", \"nghị_định\", \"90/2016/NĐ-CP\" ]\n"
      ],
      "metadata": {
        "id": "Y3WmYdejndbE"
      },
      "execution_count": 13,
      "outputs": []
    },
    {
      "cell_type": "code",
      "source": [
        "def extract_features(sentence):\n",
        "    return [{\"word\": word} for word in sentence]  # Chỉ dùng đặc trưng từ\n",
        "\n",
        "# Chuyển câu thành đặc trưng\n",
        "X_new = [extract_features(new_sentence)]\n"
      ],
      "metadata": {
        "id": "o5bYfeC1jFVc"
      },
      "execution_count": 14,
      "outputs": []
    },
    {
      "cell_type": "code",
      "source": [
        "# Dự đoán nhãn thực thể\n",
        "y_pred = crf.predict(X_new)\n",
        "\n",
        "# Kết quả dự đoán\n",
        "for word, label in zip(new_sentence, y_pred[0]):\n",
        "    print(f\"{word}: {label}\")\n"
      ],
      "metadata": {
        "colab": {
          "base_uri": "https://localhost:8080/"
        },
        "id": "wsgyfdoXjH2Z",
        "outputId": "324372ab-862b-4b48-ef23-7c917eb291cd"
      },
      "execution_count": 15,
      "outputs": [
        {
          "output_type": "stream",
          "name": "stdout",
          "text": [
            "Trực_tuyến: I-CQ\n",
            "5: I-CQ\n",
            "Ngày: I-CQ\n",
            "Công_bố: I-CQ\n",
            "thông_tin: I-CQ\n",
            "trên: I-CQ\n",
            "trang: I-CQ\n",
            "thông_tin: I-CQ\n",
            "điện_tử: I-CQ\n",
            "Luật: I-CQ\n",
            "64/2006/QH11: I-CQ\n",
            "-: I-CQ\n",
            "Phòng: I-CQ\n",
            ",: I-CQ\n",
            "chống: I-CQ\n",
            "nhiễm: I-CQ\n",
            "vi_rút: I-CQ\n",
            "gây: I-CQ\n",
            "ra: I-CQ\n",
            "hội_chứng: I-CQ\n",
            "suy_giảm: I-CQ\n",
            "miễn_dịch: I-CQ\n",
            "mắc: I-CQ\n",
            "phải: I-CQ\n",
            "ở: I-CQ\n",
            "người: I-CQ\n",
            "HIV/AIDS: I-CQ\n",
            "nghị_định: I-CQ\n",
            "90/2016/NĐ-CP: I-CQ\n",
            "-: I-CQ\n",
            "nghị_định: I-CQ\n",
            "90/2016/NĐ-CP: I-CQ\n"
          ]
        }
      ]
    },
    {
      "cell_type": "code",
      "source": [],
      "metadata": {
        "id": "iOjIS503jky1"
      },
      "execution_count": null,
      "outputs": []
    }
  ]
}